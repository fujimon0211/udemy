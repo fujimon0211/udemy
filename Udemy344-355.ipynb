{
 "cells": [
  {
   "cell_type": "code",
   "execution_count": 1,
   "id": "7e08d30a",
   "metadata": {},
   "outputs": [],
   "source": [
    "import numpy as np\n",
    "import tensorflow as tf\n",
    "\n",
    "# tensorflow-datasetsモジュールを使ってMNISTデータセットをインポートしていきます。まだインストールしていない場合は以下のコマンドでインストールしましょう。\n",
    "# pip install tensorflow-datasets \n",
    "# conda install tensorflow-datasets\n",
    "\n",
    "import tensorflow_datasets as tfds\n",
    "\n",
    "# このデータセットは、C:\\Users\\*USERNAME*\\tensorflow_datasets\\...に保存されます。"
   ]
  },
  {
   "cell_type": "code",
   "execution_count": 2,
   "id": "90132c8d",
   "metadata": {},
   "outputs": [
    {
     "name": "stderr",
     "output_type": "stream",
     "text": [
      "WARNING:absl:Warning: Setting shuffle_files=True because split=TRAIN and shuffle_files=None. This behavior will be deprecated on 2019-08-06, at which point shuffle_files=False will be the default for all splits.\n"
     ]
    },
    {
     "name": "stdout",
     "output_type": "stream",
     "text": [
      "tfds.core.DatasetInfo(\n",
      "    name='mnist',\n",
      "    version=1.0.0,\n",
      "    description='The MNIST database of handwritten digits.',\n",
      "    urls=['https://storage.googleapis.com/cvdf-datasets/mnist/'],\n",
      "    features=FeaturesDict({\n",
      "        'image': Image(shape=(28, 28, 1), dtype=tf.uint8),\n",
      "        'label': ClassLabel(shape=(), dtype=tf.int64, num_classes=10),\n",
      "    }),\n",
      "    total_num_examples=70000,\n",
      "    splits={\n",
      "        'test': 10000,\n",
      "        'train': 60000,\n",
      "    },\n",
      "    supervised_keys=('image', 'label'),\n",
      "    citation=\"\"\"@article{lecun2010mnist,\n",
      "      title={MNIST handwritten digit database},\n",
      "      author={LeCun, Yann and Cortes, Corinna and Burges, CJ},\n",
      "      journal={ATT Labs [Online]. Available: http://yann. lecun. com/exdb/mnist},\n",
      "      volume={2},\n",
      "      year={2010}\n",
      "    }\"\"\",\n",
      "    redistribution_info=,\n",
      ")\n",
      "\n"
     ]
    }
   ],
   "source": [
    "# tfds.loadを使ってデータセットを読み込んでいきます \n",
    "mnist_dataset, mnist_info = tfds.load(name='mnist', with_info=True, as_supervised=True)\n",
    "# with_info=True をすることによって、データに関する情報を得ることができるようになります。\n",
    "\n",
    "# as_supervised=Trueをすることによって、データを入力とターゲットの二つののタプル形式で作成することができま\n",
    "print(mnist_info)"
   ]
  },
  {
   "cell_type": "code",
   "execution_count": 3,
   "id": "4a7d4299",
   "metadata": {},
   "outputs": [],
   "source": [
    "# 訓練用データとテスト用データをそれぞれの変数に代入します\n",
    "mnist_train, mnist_test = mnist_dataset['train'], mnist_dataset['test']\n",
    "\n",
    "# ここから検証用データセットを作っていきます。まずは、検証用データに割り当てる割合を決めます。\n",
    "num_validation_samples = 0.1 * mnist_info.splits['train'].num_examples\n",
    "# 数字を整数に変換していきます（既に整数になっている場合も念のため行います）\n",
    "num_validation_samples = tf.cast(num_validation_samples, tf.int64)\n",
    "\n",
    "# テストデータの数も変数に入れていきます\n",
    "num_test_samples = mnist_info.splits['test'].num_examples\n",
    "# 数字を整数に変換していきます\n",
    "num_test_samples = tf.cast(num_test_samples, tf.int64)\n",
    "\n",
    "\n",
    "# 元の入力データの範囲である0から255を0と1に変えていきます\n",
    "# 今回は、変換するための関数を作成していきます\n",
    "def scale(image, label):\n",
    "    # 数字が小数であることを確認します\n",
    "    image = tf.cast(image, tf.float32)\n",
    "    # 0と1の範囲におさめるため、255で割っていきます \n",
    "    image /= 255.\n",
    "\n",
    "    return image, label\n",
    "\n",
    "# mapメソッドを使ってデータの変換を行っていきます\n",
    "scaled_train_and_validation_data = mnist_train.map(scale)\n",
    "\n",
    "# テストデータに関しても同様の変換を行っていきます\n",
    "test_data = mnist_test.map(scale)\n",
    "\n"
   ]
  },
  {
   "cell_type": "code",
   "execution_count": 4,
   "id": "b0353f56",
   "metadata": {},
   "outputs": [
    {
     "name": "stdout",
     "output_type": "stream",
     "text": [
      "<BatchDataset shapes: ((None, 28, 28, 1), (None,)), types: (tf.float32, tf.int64)>\n"
     ]
    }
   ],
   "source": [
    "#データをシャッフルするためのバッファのサイズを決めていきます\n",
    "BUFFER_SIZE = 10000\n",
    "\n",
    "# シャッフルメソッドを使ってデータをシャッフルしていきます\n",
    "shuffled_train_and_validation_data = scaled_train_and_validation_data.shuffle(BUFFER_SIZE)\n",
    "\n",
    "# takeメソッドを使ってシャッフルした検証用データを変数に代入していきます\n",
    "validation_data = shuffled_train_and_validation_data.take(num_validation_samples)\n",
    "\n",
    "# skipメソッドを使って訓練用データセットを変数に代入します\n",
    "train_data = shuffled_train_and_validation_data.skip(num_validation_samples)\n",
    "\n",
    "# batchの大きさを定義します\n",
    "BATCH_SIZE = 100\n",
    "\n",
    "# 訓練データをバッチの数毎に分けていきます\n",
    "train_data = train_data.batch(BATCH_SIZE)\n",
    "\n",
    "validation_data = validation_data.batch(num_validation_samples)\n",
    "\n",
    "# テストデータに関してもバッチ毎に分けていきます\n",
    "test_data = test_data.batch(num_test_samples)\n",
    "\n",
    "\n",
    "# バリデーションデータセットに関し、入力とターゲットそれぞれの変数を作成していきます\n",
    "validation_inputs, validation_targets = next(iter(validation_data))\n",
    "print(validation_data )\n"
   ]
  },
  {
   "cell_type": "code",
   "execution_count": 5,
   "id": "54676ae5",
   "metadata": {},
   "outputs": [],
   "source": [
    "input_size = 784\n",
    "output_size = 10\n",
    "# 隠れ層のユニットの数を定義します\n",
    "hidden_layer_size = 50\n",
    "    \n",
    "# モデルの定義を進めていきます\n",
    "model = tf.keras.Sequential([\n",
    "    \n",
    "    # 入力層の定義をしていきます\n",
    "    # もとの行列のデータをベクトルに変換します\n",
    "    tf.keras.layers.Flatten(input_shape=(28, 28, 1)), # 入力層\n",
    "    \n",
    "    # tf.keras.layers.Dense は線形結合をするための計算を行います。つまり、入力と重みの積にバイアスを追加する形です\n",
    "    # 引数として、ここでは隠れ層の数と活性化関数を指定します\n",
    "    tf.keras.layers.Dense(hidden_layer_size, activation='relu'), # 1番目の隠れ層\n",
    "    tf.keras.layers.Dense(hidden_layer_size, activation='relu'), # 2番目の隠れ層\n",
    "    \n",
    "    # 最後の層の活性関数はソフトマックスとします\n",
    "    tf.keras.layers.Dense(output_size, activation='softmax') # 出力層\n",
    "])"
   ]
  },
  {
   "cell_type": "code",
   "execution_count": 6,
   "id": "c0547f33",
   "metadata": {},
   "outputs": [],
   "source": [
    "# 最適化アルゴリズムはadamを、損失関数はクロスエントロピーを使っていきます\n",
    "model.compile(optimizer='adam', loss='sparse_categorical_crossentropy', metrics=['accuracy'])"
   ]
  },
  {
   "cell_type": "code",
   "execution_count": 7,
   "id": "6aae4d5b",
   "metadata": {},
   "outputs": [
    {
     "name": "stdout",
     "output_type": "stream",
     "text": [
      "Epoch 1/5\n",
      "540/540 - 3s - loss: 0.4227 - accuracy: 0.8827 - val_loss: 0.2031 - val_accuracy: 0.9422\n",
      "Epoch 2/5\n",
      "540/540 - 3s - loss: 0.1714 - accuracy: 0.9495 - val_loss: 0.1492 - val_accuracy: 0.9603\n",
      "Epoch 3/5\n",
      "540/540 - 3s - loss: 0.1279 - accuracy: 0.9622 - val_loss: 0.1291 - val_accuracy: 0.9637\n",
      "Epoch 4/5\n",
      "540/540 - 3s - loss: 0.1044 - accuracy: 0.9690 - val_loss: 0.1072 - val_accuracy: 0.9695\n",
      "Epoch 5/5\n",
      "540/540 - 3s - loss: 0.0868 - accuracy: 0.9738 - val_loss: 0.0969 - val_accuracy: 0.9715\n"
     ]
    },
    {
     "data": {
      "text/plain": [
       "<tensorflow.python.keras.callbacks.History at 0x1b929463100>"
      ]
     },
     "execution_count": 7,
     "metadata": {},
     "output_type": "execute_result"
    }
   ],
   "source": [
    "# 繰り返しの回数を決めます\n",
    "NUM_EPOCHS = 5\n",
    "early_stopping = tf.keras.callbacks.EarlyStopping(patience=2)\n",
    "\n",
    "# モデルに対してデータを入れて演算を行っていきます\n",
    "model.fit(train_data, epochs=NUM_EPOCHS, validation_data=(validation_inputs, validation_targets), verbose =2,callbacks=[early_stopping])"
   ]
  },
  {
   "cell_type": "code",
   "execution_count": null,
   "id": "3dd9ac94",
   "metadata": {},
   "outputs": [
    {
     "name": "stdout",
     "output_type": "stream",
     "text": [
      "1/1 [==============================] - 0s 10ms/step - loss: 0.1133 - accuracy: 0.9664\n"
     ]
    }
   ],
   "source": [
    "test_loss, test_accuracy = model.evaluate(test_data)"
   ]
  },
  {
   "cell_type": "code",
   "execution_count": null,
   "id": "e681320f",
   "metadata": {},
   "outputs": [
    {
     "name": "stdout",
     "output_type": "stream",
     "text": [
      "Test loss: 0.11. Test accuracy: 96.64%\n"
     ]
    }
   ],
   "source": [
    "# 出力結果の見た目を整えます\n",
    "print('Test loss: {0:.2f}. Test accuracy: {1:.2f}%'.format(test_loss, test_accuracy*100.))"
   ]
  },
  {
   "cell_type": "code",
   "execution_count": null,
   "id": "85a00243",
   "metadata": {},
   "outputs": [],
   "source": []
  }
 ],
 "metadata": {
  "kernelspec": {
   "display_name": "Python 3 (ipykernel)",
   "language": "python",
   "name": "python3"
  },
  "language_info": {
   "codemirror_mode": {
    "name": "ipython",
    "version": 3
   },
   "file_extension": ".py",
   "mimetype": "text/x-python",
   "name": "python",
   "nbconvert_exporter": "python",
   "pygments_lexer": "ipython3",
   "version": "3.8.12"
  }
 },
 "nbformat": 4,
 "nbformat_minor": 5
}
