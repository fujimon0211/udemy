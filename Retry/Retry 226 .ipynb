{
 "cells": [
  {
   "cell_type": "code",
   "execution_count": 1,
   "id": "137c3ac7-422e-4b12-9d7a-46bb66e69d8f",
   "metadata": {},
   "outputs": [],
   "source": [
    "import numpy as np\n",
    "import pandas as pd\n",
    "import matplotlib.pyplot as plt\n",
    "import seaborn as sns\n",
    "sns.set()\n",
    "\n",
    "from sklearn.linear_model import LinearRegression"
   ]
  },
  {
   "cell_type": "markdown",
   "id": "d8277f8c-1afb-41ad-bca3-dfe6773d7353",
   "metadata": {},
   "source": [
    "### データを読み込み、従属変数と独立変数を定義する\n"
   ]
  },
  {
   "cell_type": "code",
   "execution_count": 3,
   "id": "a99dc0a4-2291-42fd-8cd5-137bd1fa50e1",
   "metadata": {},
   "outputs": [
    {
     "data": {
      "text/html": [
       "<div>\n",
       "<style scoped>\n",
       "    .dataframe tbody tr th:only-of-type {\n",
       "        vertical-align: middle;\n",
       "    }\n",
       "\n",
       "    .dataframe tbody tr th {\n",
       "        vertical-align: top;\n",
       "    }\n",
       "\n",
       "    .dataframe thead th {\n",
       "        text-align: right;\n",
       "    }\n",
       "</style>\n",
       "<table border=\"1\" class=\"dataframe\">\n",
       "  <thead>\n",
       "    <tr style=\"text-align: right;\">\n",
       "      <th></th>\n",
       "      <th>price</th>\n",
       "      <th>size</th>\n",
       "      <th>year</th>\n",
       "    </tr>\n",
       "  </thead>\n",
       "  <tbody>\n",
       "    <tr>\n",
       "      <th>0</th>\n",
       "      <td>234314.144</td>\n",
       "      <td>643.09</td>\n",
       "      <td>2015</td>\n",
       "    </tr>\n",
       "    <tr>\n",
       "      <th>1</th>\n",
       "      <td>228581.528</td>\n",
       "      <td>656.22</td>\n",
       "      <td>2009</td>\n",
       "    </tr>\n",
       "    <tr>\n",
       "      <th>2</th>\n",
       "      <td>281626.336</td>\n",
       "      <td>487.29</td>\n",
       "      <td>2018</td>\n",
       "    </tr>\n",
       "    <tr>\n",
       "      <th>3</th>\n",
       "      <td>401255.608</td>\n",
       "      <td>1504.75</td>\n",
       "      <td>2015</td>\n",
       "    </tr>\n",
       "    <tr>\n",
       "      <th>4</th>\n",
       "      <td>458674.256</td>\n",
       "      <td>1275.46</td>\n",
       "      <td>2009</td>\n",
       "    </tr>\n",
       "  </tbody>\n",
       "</table>\n",
       "</div>"
      ],
      "text/plain": [
       "        price     size  year\n",
       "0  234314.144   643.09  2015\n",
       "1  228581.528   656.22  2009\n",
       "2  281626.336   487.29  2018\n",
       "3  401255.608  1504.75  2015\n",
       "4  458674.256  1275.46  2009"
      ]
     },
     "execution_count": 3,
     "metadata": {},
     "output_type": "execute_result"
    }
   ],
   "source": [
    "raw_data=pd.read_csv('real_estate_price_size_year.csv')\n",
    "raw_data.head()"
   ]
  },
  {
   "cell_type": "code",
   "execution_count": 4,
   "id": "0b69e13e-4cc1-4858-85d3-266b0d0e09b6",
   "metadata": {},
   "outputs": [],
   "source": [
    "data=raw_data.copy()"
   ]
  },
  {
   "cell_type": "code",
   "execution_count": 16,
   "id": "0f2a39d4-16a3-4ad5-871e-dca6a8aa3587",
   "metadata": {},
   "outputs": [],
   "source": [
    "y=data['price']\n",
    "x=data[['size','year']]"
   ]
  },
  {
   "cell_type": "markdown",
   "id": "09889ae4-6b00-4cc5-b749-0acebc405ddf",
   "metadata": {},
   "source": [
    "### データに対して標準化を行う\n"
   ]
  },
  {
   "cell_type": "code",
   "execution_count": 46,
   "id": "eaf98a6e-afe2-4b44-8da3-7cc615bba946",
   "metadata": {},
   "outputs": [],
   "source": [
    "from sklearn.preprocessing import StandardScaler\n",
    "scaler=StandardScaler()\n",
    "x_scaled=scaler.fit_transform(x)"
   ]
  },
  {
   "cell_type": "markdown",
   "id": "9b2acd93-34c2-4283-b1b9-99faab5ba800",
   "metadata": {},
   "source": [
    "### 切片、係数、自由度、自由度修正済みを求める\n"
   ]
  },
  {
   "cell_type": "code",
   "execution_count": 47,
   "id": "29625701-bba5-434d-b346-5fe67c792410",
   "metadata": {},
   "outputs": [
    {
     "data": {
      "text/plain": [
       "LinearRegression()"
      ]
     },
     "execution_count": 47,
     "metadata": {},
     "output_type": "execute_result"
    }
   ],
   "source": [
    "reg=LinearRegression()\n",
    "reg.fit(x_scaled,y)\n"
   ]
  },
  {
   "cell_type": "code",
   "execution_count": 48,
   "id": "73e6e04e-a229-4f30-b111-66fcfa275872",
   "metadata": {},
   "outputs": [
    {
     "data": {
      "text/plain": [
       "array([67501.57614152, 13724.39708231])"
      ]
     },
     "execution_count": 48,
     "metadata": {},
     "output_type": "execute_result"
    }
   ],
   "source": [
    "reg.coef_"
   ]
  },
  {
   "cell_type": "code",
   "execution_count": 49,
   "id": "4b66c422-6194-4bbc-9d7b-0510d81c82a5",
   "metadata": {},
   "outputs": [
    {
     "data": {
      "text/plain": [
       "292289.4701599997"
      ]
     },
     "execution_count": 49,
     "metadata": {},
     "output_type": "execute_result"
    }
   ],
   "source": [
    "reg.intercept_"
   ]
  },
  {
   "cell_type": "code",
   "execution_count": 51,
   "id": "e9adfe77-9127-4706-b258-3039e8b003e9",
   "metadata": {},
   "outputs": [
    {
     "data": {
      "text/plain": [
       "0.7764803683276793"
      ]
     },
     "execution_count": 51,
     "metadata": {},
     "output_type": "execute_result"
    }
   ],
   "source": [
    "r2=reg.score(x_scaled,y)\n",
    "r2"
   ]
  },
  {
   "cell_type": "code",
   "execution_count": 52,
   "id": "455c5fac-fac9-4f54-ba38-972f02fa3185",
   "metadata": {},
   "outputs": [
    {
     "data": {
      "text/plain": [
       "0.77187171612825"
      ]
     },
     "execution_count": 52,
     "metadata": {},
     "output_type": "execute_result"
    }
   ],
   "source": [
    "n=x.shape[0]\n",
    "p=x.shape[1]\n",
    "r2_adj=1-(1-r2)*(n-1)/(n-p-1)\n",
    "r2_adj"
   ]
  },
  {
   "cell_type": "markdown",
   "id": "b6b96c67-231e-47dc-a919-14a4c13bf179",
   "metadata": {},
   "source": [
    "### サイズ750，年2009のデータを作成し、標準化をした上で予測する\n"
   ]
  },
  {
   "cell_type": "code",
   "execution_count": 53,
   "id": "b2c0e4be-655f-444f-8649-b9099d203980",
   "metadata": {},
   "outputs": [],
   "source": [
    "predict=[[750,2009]]\n",
    "result=scaler.transform(predict)"
   ]
  },
  {
   "cell_type": "code",
   "execution_count": 54,
   "id": "946f5bff-ae6f-4343-ab6f-e907ce933849",
   "metadata": {},
   "outputs": [
    {
     "data": {
      "text/plain": [
       "array([258330.34465995])"
      ]
     },
     "execution_count": 54,
     "metadata": {},
     "output_type": "execute_result"
    }
   ],
   "source": [
    "reg.predict(result)"
   ]
  },
  {
   "cell_type": "markdown",
   "id": "0ba79284-bfc2-43e4-8e6c-432218f97c5d",
   "metadata": {},
   "source": [
    "### f値からp値を求め、データの有意性について考察する"
   ]
  },
  {
   "cell_type": "code",
   "execution_count": 58,
   "id": "78bb3fab-fb6a-46c3-b646-a9b1a3bd778b",
   "metadata": {},
   "outputs": [
    {
     "data": {
      "text/plain": [
       "array([8.12763222e-31, 3.57340758e-01])"
      ]
     },
     "execution_count": 58,
     "metadata": {},
     "output_type": "execute_result"
    }
   ],
   "source": [
    "from sklearn.feature_selection import f_regression\n",
    "f_regression=f_regression(x_scaled,y)\n",
    "p_value=f_regression[1]\n",
    "p_value"
   ]
  },
  {
   "cell_type": "code",
   "execution_count": 60,
   "id": "69586ac4-742d-4bcd-9886-3cc5068e695f",
   "metadata": {},
   "outputs": [
    {
     "data": {
      "text/plain": [
       "array([0.   , 0.357])"
      ]
     },
     "execution_count": 60,
     "metadata": {},
     "output_type": "execute_result"
    }
   ],
   "source": [
    "p_value.round(3)"
   ]
  },
  {
   "cell_type": "markdown",
   "id": "e9aed4d9-7f37-47ef-9dc9-3ce708fb1bb5",
   "metadata": {},
   "source": [
    "年の列は有意ではない"
   ]
  },
  {
   "cell_type": "code",
   "execution_count": 70,
   "id": "2a54c260-25b2-4fb8-a295-98f11920a7fb",
   "metadata": {},
   "outputs": [
    {
     "data": {
      "text/html": [
       "<div>\n",
       "<style scoped>\n",
       "    .dataframe tbody tr th:only-of-type {\n",
       "        vertical-align: middle;\n",
       "    }\n",
       "\n",
       "    .dataframe tbody tr th {\n",
       "        vertical-align: top;\n",
       "    }\n",
       "\n",
       "    .dataframe thead th {\n",
       "        text-align: right;\n",
       "    }\n",
       "</style>\n",
       "<table border=\"1\" class=\"dataframe\">\n",
       "  <thead>\n",
       "    <tr style=\"text-align: right;\">\n",
       "      <th></th>\n",
       "      <th>coef</th>\n",
       "      <th>p-value</th>\n",
       "    </tr>\n",
       "  </thead>\n",
       "  <tbody>\n",
       "    <tr>\n",
       "      <th>size</th>\n",
       "      <td>67501.576142</td>\n",
       "      <td>0.000</td>\n",
       "    </tr>\n",
       "    <tr>\n",
       "      <th>year</th>\n",
       "      <td>13724.397082</td>\n",
       "      <td>0.357</td>\n",
       "    </tr>\n",
       "  </tbody>\n",
       "</table>\n",
       "</div>"
      ],
      "text/plain": [
       "              coef  p-value\n",
       "size  67501.576142    0.000\n",
       "year  13724.397082    0.357"
      ]
     },
     "execution_count": 70,
     "metadata": {},
     "output_type": "execute_result"
    }
   ],
   "source": [
    "summary=pd.DataFrame(index={'size','year'})\n",
    "summary['coef']=reg.coef_\n",
    "summary['p-value']=p_value.round(3)\n",
    "summary"
   ]
  },
  {
   "cell_type": "code",
   "execution_count": null,
   "id": "a1f56bd0-1fe8-4d3c-af25-493b82acb85d",
   "metadata": {},
   "outputs": [],
   "source": []
  }
 ],
 "metadata": {
  "kernelspec": {
   "display_name": "Python 3 (ipykernel)",
   "language": "python",
   "name": "python3"
  },
  "language_info": {
   "codemirror_mode": {
    "name": "ipython",
    "version": 3
   },
   "file_extension": ".py",
   "mimetype": "text/x-python",
   "name": "python",
   "nbconvert_exporter": "python",
   "pygments_lexer": "ipython3",
   "version": "3.8.12"
  }
 },
 "nbformat": 4,
 "nbformat_minor": 5
}
