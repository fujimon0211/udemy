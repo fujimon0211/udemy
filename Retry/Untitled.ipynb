{
 "cells": [
  {
   "cell_type": "code",
   "execution_count": 28,
   "id": "dd6f2203-65a4-4420-b1c2-7fad914512d3",
   "metadata": {},
   "outputs": [],
   "source": [
    "import numpy as np\n",
    "from sklearn import preprocessing\n",
    "\n",
    "raw_data=np.loadtxt('Audiobooks-data.csv',delimiter=',')\n",
    "\n",
    "unscaled_inputs_all=raw_data[:,1:-1]\n",
    "targets_all=raw_data[:,-1]\n"
   ]
  },
  {
   "cell_type": "code",
   "execution_count": 50,
   "id": "8502fd69-1e49-4500-9793-40569c191831",
   "metadata": {},
   "outputs": [
    {
     "data": {
      "text/plain": [
       "(14084, 10)"
      ]
     },
     "execution_count": 50,
     "metadata": {},
     "output_type": "execute_result"
    }
   ],
   "source": [
    "unscaled_inputs_all.shape"
   ]
  },
  {
   "cell_type": "code",
   "execution_count": 59,
   "id": "0a129621-0915-4cdc-a520-4ab44986634f",
   "metadata": {},
   "outputs": [],
   "source": [
    "num_one_targets=np.sum(targets_all)\n",
    "\n",
    "zero_targets_counter=0\n",
    "\n",
    "indices_to_remove=[]\n",
    "\n",
    "for i in range(targets_all.shape[0]):\n",
    "    if targets_all[i]==0:\n",
    "        zero_targets_counter+=1\n",
    "        if zero_targets_counter>num_one_targets:\n",
    "            indices_to_remove.append(i)\n",
    "            \n",
    "unscaled_inputs_equal_priors=np.delete(unscaled_inputs_all,indices_to_remove,axis=0)\n",
    "targets_equal_priors=np.delete(targets_all,indices_to_remove,axis=0)\n"
   ]
  },
  {
   "cell_type": "code",
   "execution_count": 30,
   "id": "c2674a36-9cf5-426d-bd1f-51efe2b6c271",
   "metadata": {},
   "outputs": [],
   "source": [
    "scaled_inputs=preprocessing.scale(unscaled_inputs_equal_priors)"
   ]
  },
  {
   "cell_type": "code",
   "execution_count": 68,
   "id": "f2af9ba2-674b-4368-ad2d-554155615270",
   "metadata": {},
   "outputs": [],
   "source": [
    "shuffled_indices =np.arange(scaled_inputs.shape[0])\n",
    "np.random.shuffle(shuffled_indices)\n",
    "shuffled_inputs=scaled_inputs[shuffled_indices]\n",
    "shuffled_targets=targets_equal_priors[shuffled_indices]"
   ]
  },
  {
   "cell_type": "code",
   "execution_count": 69,
   "id": "3f22382d-dfc7-4a97-b55d-4dd7eb3cae92",
   "metadata": {},
   "outputs": [
    {
     "name": "stdout",
     "output_type": "stream",
     "text": [
      "1780.0 3579 0.4973456272701872\n",
      "242.0 447 0.5413870246085011\n",
      "215.0 448 0.4799107142857143\n"
     ]
    }
   ],
   "source": [
    "samples_count=shuffled_inputs.shape[0]\n",
    "\n",
    "train_samples_count=int(0.8*samples_count)\n",
    "validation_samples_count=int(0.1*samples_count)\n",
    "test_samples_count=int(samples_count-train_samples_count-validation_samples_count)\n",
    "\n",
    "train_inputs=shuffled_inputs[:train_samples_count]\n",
    "train_targets=shuffled_targets[:train_samples_count]\n",
    "\n",
    "validation_inputs=shuffled_inputs[train_samples_count:train_samples_count+validation_samples_count]\n",
    "validation_targets=shuffled_targets[train_samples_count:train_samples_count+validation_samples_count]\n",
    "\n",
    "test_inputs=shuffled_inputs[train_samples_count+validation_samples_count:]\n",
    "test_targets=shuffled_targets[train_samples_count+validation_samples_count:]\n",
    "\n",
    "print(np.sum(train_targets),train_samples_count,np.sum(train_targets)/train_samples_count)\n",
    "print(np.sum(validation_targets), validation_samples_count, np.sum(validation_targets) / validation_samples_count)\n",
    "print(np.sum(test_targets), test_samples_count, np.sum(test_targets) / test_samples_count)"
   ]
  },
  {
   "cell_type": "code",
   "execution_count": 48,
   "id": "58894fed-5220-4eb7-b560-56523bae4111",
   "metadata": {},
   "outputs": [],
   "source": [
    "np.savez('Audiobooks_data_train', inputs=train_inputs,outputs=train_targets)\n",
    "np.savez('Audiobooks_data_validation',inputs=validation_inputs,outputs=validation_targets)\n",
    "np.savez('Audiobooks_data_test',inputs=test_inputs,outputs=test_targets)"
   ]
  },
  {
   "cell_type": "code",
   "execution_count": 49,
   "id": "d65c3162-a5df-43c0-9d67-b6d72baba604",
   "metadata": {},
   "outputs": [],
   "source": [
    "import numpy as np\n",
    "import tensorflow as tf"
   ]
  },
  {
   "cell_type": "code",
   "execution_count": 52,
   "id": "96a40b09-f182-44d2-adca-be2b3affc258",
   "metadata": {},
   "outputs": [],
   "source": [
    "input_size=10\n",
    "output_size=2\n",
    "hidden_layer_size=30\n",
    "\n",
    "model=tf.keras.Sequential([\n",
    "    tf.keras.layers.Dense(hidden_layer_size,activation='relu'),\n",
    "    tf.keras.layers.Dense(hidden_layer_size,activation='relu'),\n",
    "    tf.keras.layers.Dense(hidden_layer_size,activation='relu'),\n",
    "    tf.keras.layers.Dense(hidden_layer_size,activation='softmax')\n",
    "    \n",
    "    \n",
    "])\n"
   ]
  },
  {
   "cell_type": "code",
   "execution_count": 53,
   "id": "4ba168fe-6bd3-48d3-b606-12e0bdc25702",
   "metadata": {},
   "outputs": [],
   "source": [
    "model.compile(optimizer='adam',loss='sparse_categorical_crossentropy',metrics=['accuracy'])"
   ]
  },
  {
   "cell_type": "code",
   "execution_count": 55,
   "id": "2a011035-01f6-4d76-8fb5-7cc767680622",
   "metadata": {},
   "outputs": [
    {
     "name": "stdout",
     "output_type": "stream",
     "text": [
      "Epoch 1/100\n",
      "36/36 [==============================] - 0s 3ms/step - loss: 0.3795 - accuracy: 0.7949 - val_loss: 0.3589 - val_accuracy: 0.8098\n",
      "Epoch 2/100\n",
      "36/36 [==============================] - 0s 1ms/step - loss: 0.3702 - accuracy: 0.7994 - val_loss: 0.3560 - val_accuracy: 0.7875\n",
      "Epoch 3/100\n",
      "36/36 [==============================] - 0s 2ms/step - loss: 0.3613 - accuracy: 0.8047 - val_loss: 0.3469 - val_accuracy: 0.8076\n",
      "Epoch 4/100\n",
      "36/36 [==============================] - 0s 2ms/step - loss: 0.3595 - accuracy: 0.8083 - val_loss: 0.3600 - val_accuracy: 0.7763\n",
      "Epoch 5/100\n",
      "36/36 [==============================] - 0s 2ms/step - loss: 0.3513 - accuracy: 0.8139 - val_loss: 0.3333 - val_accuracy: 0.8121\n",
      "Epoch 6/100\n",
      "36/36 [==============================] - 0s 2ms/step - loss: 0.3560 - accuracy: 0.8041 - val_loss: 0.3407 - val_accuracy: 0.8188\n",
      "Epoch 7/100\n",
      "36/36 [==============================] - 0s 2ms/step - loss: 0.3465 - accuracy: 0.8120 - val_loss: 0.3368 - val_accuracy: 0.7875\n"
     ]
    },
    {
     "data": {
      "text/plain": [
       "<tensorflow.python.keras.callbacks.History at 0x29a6e48cca0>"
      ]
     },
     "execution_count": 55,
     "metadata": {},
     "output_type": "execute_result"
    }
   ],
   "source": [
    "MAX_SPOCHS=100\n",
    "batch_size=100\n",
    "\n",
    "early_stoppings=tf.keras.callbacks.EarlyStopping(patience=2)\n",
    "\n",
    "model.fit(train_inputs,train_targets,validation_data=(validation_inputs,validation_targets),callbacks=[early_stoppings],epochs=MAX_SPOCHS,batch_size=batch_size,verbose=1)"
   ]
  },
  {
   "cell_type": "code",
   "execution_count": 56,
   "id": "19b841ce-6094-46ad-8eaf-9243b859f82a",
   "metadata": {},
   "outputs": [
    {
     "name": "stdout",
     "output_type": "stream",
     "text": [
      "14/14 [==============================] - 0s 1ms/step - loss: 0.3659 - accuracy: 0.7857\n"
     ]
    }
   ],
   "source": [
    "test_loss,test_accuracy=model.evaluate(test_inputs,test_targets)"
   ]
  },
  {
   "cell_type": "code",
   "execution_count": null,
   "id": "857a9177-14ff-4ccd-83c4-5aac27ddc480",
   "metadata": {},
   "outputs": [],
   "source": []
  }
 ],
 "metadata": {
  "kernelspec": {
   "display_name": "Python 3 (ipykernel)",
   "language": "python",
   "name": "python3"
  },
  "language_info": {
   "codemirror_mode": {
    "name": "ipython",
    "version": 3
   },
   "file_extension": ".py",
   "mimetype": "text/x-python",
   "name": "python",
   "nbconvert_exporter": "python",
   "pygments_lexer": "ipython3",
   "version": "3.8.12"
  }
 },
 "nbformat": 4,
 "nbformat_minor": 5
}
