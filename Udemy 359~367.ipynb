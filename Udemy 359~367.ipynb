{
 "cells": [
  {
   "cell_type": "markdown",
   "id": "4d7c1ae5-6a9c-4ffc-a0ae-4eee6b3f8077",
   "metadata": {},
   "source": []
  },
  {
   "cell_type": "code",
   "execution_count": 1,
   "id": "e03fed3d",
   "metadata": {},
   "outputs": [],
   "source": [
    "import numpy as np\n",
    "\n",
    "# 前処理にはsklearnライブラリを使っていきます\n",
    "from sklearn import preprocessing\n",
    "\n",
    "# データを読み込みます\n",
    "raw_csv_data = np.loadtxt('Audiobooks-data.csv',delimiter=',')\n",
    "\n",
    "# 最初のIDの列と、ターゲットである最後の列を取り除いた上で変数に代入します\n",
    "unscaled_inputs_all = raw_csv_data[:,1:-1]\n",
    "\n",
    "# 最後の列のデータをターゲットとして変数に代入していきます\n",
    "targets_all = raw_csv_data[:,-1]"
   ]
  },
  {
   "cell_type": "code",
   "execution_count": 2,
   "id": "1de86806-8b91-4c7c-805f-94261ea673f4",
   "metadata": {},
   "outputs": [
    {
     "data": {
      "text/plain": [
       "(14084,)"
      ]
     },
     "execution_count": 2,
     "metadata": {},
     "output_type": "execute_result"
    }
   ],
   "source": [
    "targets_all.shape"
   ]
  },
  {
   "cell_type": "code",
   "execution_count": 3,
   "id": "f49db94c",
   "metadata": {},
   "outputs": [],
   "source": [
    "# ターゲットの数を数えます\n",
    "num_one_targets = int(np.sum(targets_all))\n",
    "\n",
    "# 数を数えるための変数を定義します\n",
    "zero_targets_counter = 0\n",
    "\n",
    "# バランスを取る上で不要なデータを入れるためのリストを定義します\n",
    "indices_to_remove = []\n",
    "\n",
    "# ターゲットの数を数え、その数を超える0のデータがあった場合はリストにその値をいれていきます\n",
    "for i in range(targets_all.shape[0]):\n",
    "    if targets_all[i] == 0:\n",
    "        zero_targets_counter += 1\n",
    "        if zero_targets_counter > num_one_targets:\n",
    "            indices_to_remove.append(i)\n",
    "\n",
    "# 入力とターゲットを入れるための変数を定義します\n",
    "# また、バランスが取れていないデータを削除していきます\n",
    "unscaled_inputs_equal_priors = np.delete(unscaled_inputs_all, indices_to_remove, axis=0)\n",
    "targets_equal_priors = np.delete(targets_all, indices_to_remove, axis=0)"
   ]
  },
  {
   "cell_type": "code",
   "execution_count": 4,
   "id": "0b03308f-57ec-4bd6-a39f-7fbc53d55283",
   "metadata": {},
   "outputs": [
    {
     "data": {
      "text/plain": [
       "2237"
      ]
     },
     "execution_count": 4,
     "metadata": {},
     "output_type": "execute_result"
    }
   ],
   "source": [
    "num_one_targets"
   ]
  },
  {
   "cell_type": "code",
   "execution_count": 5,
   "id": "8dbd1190-1157-4c81-9b9b-0f99e0626953",
   "metadata": {},
   "outputs": [],
   "source": [
    "scaled_inputs = preprocessing.scale(unscaled_inputs_equal_priors)\n"
   ]
  },
  {
   "cell_type": "code",
   "execution_count": 6,
   "id": "5e67f24d-b2f3-49d5-80fd-6d1f2da4d274",
   "metadata": {},
   "outputs": [],
   "source": [
    "# データをバッチに分けていくことから、何らかの規則性が生まれないようにデータをシャッフルしていきます\n",
    "shuffled_indices = np.arange(scaled_inputs.shape[0])\n",
    "np.random.shuffle(shuffled_indices)\n",
    "\n",
    "# シャッフルしたデータを変数に入れていきます\n",
    "shuffled_inputs = scaled_inputs[shuffled_indices]\n",
    "shuffled_targets = targets_equal_priors[shuffled_indices]\n",
    "\n",
    "\n"
   ]
  },
  {
   "cell_type": "code",
   "execution_count": null,
   "id": "f5d3106f-c6a8-4b4d-baa5-82dddbd36b60",
   "metadata": {},
   "outputs": [],
   "source": []
  },
  {
   "cell_type": "code",
   "execution_count": 7,
   "id": "6f69a8d6-24a2-4f39-a77e-a8dd0ed1d51e",
   "metadata": {},
   "outputs": [
    {
     "name": "stdout",
     "output_type": "stream",
     "text": [
      "1800.0 3579 0.5029337803855826\n",
      "222.0 447 0.4966442953020134\n",
      "215.0 448 0.4799107142857143\n"
     ]
    }
   ],
   "source": [
    "# データの数を数えます\n",
    "samples_count = shuffled_inputs.shape[0]\n",
    "\n",
    "# 80-10-10に分けることを前提として、訓練用と検証用のデータの数を定義していきます\n",
    "# Naturally, the numbers are integers.\n",
    "train_samples_count = int(0.8 * samples_count)\n",
    "validation_samples_count = int(0.1 * samples_count)\n",
    "\n",
    "# テスト用のデータの数を定義します\n",
    "test_samples_count = samples_count - train_samples_count - validation_samples_count\n",
    "\n",
    "# 訓練用データを作成します\n",
    "train_inputs = shuffled_inputs[:train_samples_count]\n",
    "train_targets = shuffled_targets[:train_samples_count]\n",
    "\n",
    "# 検証用データを作成します\n",
    "validation_inputs = shuffled_inputs[train_samples_count:train_samples_count+validation_samples_count]\n",
    "validation_targets = shuffled_targets[train_samples_count:train_samples_count+validation_samples_count]\n",
    "\n",
    "# テスト用データを作成します\n",
    "test_inputs = shuffled_inputs[train_samples_count+validation_samples_count:]\n",
    "test_targets = shuffled_targets[train_samples_count+validation_samples_count:]\n",
    "\n",
    "\n",
    "# 作成したデータの中の１と０の割合を確認します\n",
    "print(np.sum(train_targets), train_samples_count, np.sum(train_targets) / train_samples_count)\n",
    "print(np.sum(validation_targets), validation_samples_count, np.sum(validation_targets) / validation_samples_count)\n",
    "print(np.sum(test_targets), test_samples_count, np.sum(test_targets) / test_samples_count)"
   ]
  },
  {
   "cell_type": "code",
   "execution_count": 8,
   "id": "8290f0b2-f9ea-4db6-8f90-2e1925057da6",
   "metadata": {},
   "outputs": [],
   "source": [
    "# Ssavezメソッドを使ってデータを保存していきます\n",
    "np.savez('Audiobooks_data_train', inputs=train_inputs, targets=train_targets)\n",
    "np.savez('Audiobooks_data_validation', inputs=validation_inputs, targets=validation_targets)\n",
    "np.savez('Audiobooks_data_test', inputs=test_inputs, targets=test_targets)"
   ]
  },
  {
   "cell_type": "code",
   "execution_count": 9,
   "id": "b4c2edb1-af2c-45e6-b447-e5e6349e47d1",
   "metadata": {},
   "outputs": [],
   "source": [
    "# 新たに一からコードを書いていきますので、再度ライブラリをインポートします\n",
    "import numpy as np\n",
    "import tensorflow as tf"
   ]
  },
  {
   "cell_type": "code",
   "execution_count": 10,
   "id": "471d3011",
   "metadata": {
    "scrolled": true
   },
   "outputs": [
    {
     "name": "stderr",
     "output_type": "stream",
     "text": [
      "C:\\Users\\fujir\\AppData\\Local\\Temp\\ipykernel_17028\\2274972335.py:5: DeprecationWarning: `np.float` is a deprecated alias for the builtin `float`. To silence this warning, use `float` by itself. Doing this will not modify any behavior and is safe. If you specifically wanted the numpy scalar type, use `np.float64` here.\n",
      "Deprecated in NumPy 1.20; for more details and guidance: https://numpy.org/devdocs/release/1.20.0-notes.html#deprecations\n",
      "  train_inputs = npz['inputs'].astype(np.float)\n",
      "C:\\Users\\fujir\\AppData\\Local\\Temp\\ipykernel_17028\\2274972335.py:6: DeprecationWarning: `np.int` is a deprecated alias for the builtin `int`. To silence this warning, use `int` by itself. Doing this will not modify any behavior and is safe. When replacing `np.int`, you may wish to use e.g. `np.int64` or `np.int32` to specify the precision. If you wish to review your current use, check the release note link for additional information.\n",
      "Deprecated in NumPy 1.20; for more details and guidance: https://numpy.org/devdocs/release/1.20.0-notes.html#deprecations\n",
      "  train_targets = npz['targets'].astype(np.int)\n",
      "C:\\Users\\fujir\\AppData\\Local\\Temp\\ipykernel_17028\\2274972335.py:11: DeprecationWarning: `np.float` is a deprecated alias for the builtin `float`. To silence this warning, use `float` by itself. Doing this will not modify any behavior and is safe. If you specifically wanted the numpy scalar type, use `np.float64` here.\n",
      "Deprecated in NumPy 1.20; for more details and guidance: https://numpy.org/devdocs/release/1.20.0-notes.html#deprecations\n",
      "  validation_inputs, validation_targets = npz['inputs'].astype(np.float), npz['targets'].astype(np.int)\n",
      "C:\\Users\\fujir\\AppData\\Local\\Temp\\ipykernel_17028\\2274972335.py:11: DeprecationWarning: `np.int` is a deprecated alias for the builtin `int`. To silence this warning, use `int` by itself. Doing this will not modify any behavior and is safe. When replacing `np.int`, you may wish to use e.g. `np.int64` or `np.int32` to specify the precision. If you wish to review your current use, check the release note link for additional information.\n",
      "Deprecated in NumPy 1.20; for more details and guidance: https://numpy.org/devdocs/release/1.20.0-notes.html#deprecations\n",
      "  validation_inputs, validation_targets = npz['inputs'].astype(np.float), npz['targets'].astype(np.int)\n",
      "C:\\Users\\fujir\\AppData\\Local\\Temp\\ipykernel_17028\\2274972335.py:16: DeprecationWarning: `np.float` is a deprecated alias for the builtin `float`. To silence this warning, use `float` by itself. Doing this will not modify any behavior and is safe. If you specifically wanted the numpy scalar type, use `np.float64` here.\n",
      "Deprecated in NumPy 1.20; for more details and guidance: https://numpy.org/devdocs/release/1.20.0-notes.html#deprecations\n",
      "  test_inputs, test_targets = npz['inputs'].astype(np.float), npz['targets'].astype(np.int)\n",
      "C:\\Users\\fujir\\AppData\\Local\\Temp\\ipykernel_17028\\2274972335.py:16: DeprecationWarning: `np.int` is a deprecated alias for the builtin `int`. To silence this warning, use `int` by itself. Doing this will not modify any behavior and is safe. When replacing `np.int`, you may wish to use e.g. `np.int64` or `np.int32` to specify the precision. If you wish to review your current use, check the release note link for additional information.\n",
      "Deprecated in NumPy 1.20; for more details and guidance: https://numpy.org/devdocs/release/1.20.0-notes.html#deprecations\n",
      "  test_inputs, test_targets = npz['inputs'].astype(np.float), npz['targets'].astype(np.int)\n"
     ]
    }
   ],
   "source": [
    "# まずは訓練データを一時的に読み込みます\n",
    "npz = np.load('Audiobooks_data_train.npz')\n",
    "\n",
    "# 訓練用のデータを入力とターゲットに分けて変数に代入していきます\n",
    "train_inputs = npz['inputs'].astype(np.float)\n",
    "train_targets = npz['targets'].astype(np.int)\n",
    "\n",
    "# 検証用データを一時的に読み込みます\n",
    "npz = np.load('Audiobooks_data_validation.npz')\n",
    "# 訓練用のデータを入力とターゲットに分けて変数に代入していきます\n",
    "validation_inputs, validation_targets = npz['inputs'].astype(np.float), npz['targets'].astype(np.int)\n",
    "\n",
    "# テストデータを一時的に読み込みます\n",
    "npz = np.load('Audiobooks_data_test.npz')\n",
    "# テスト用のデータを入力とターゲットに分けて変数に代入していきます\n",
    "test_inputs, test_targets = npz['inputs'].astype(np.float), npz['targets'].astype(np.int)"
   ]
  },
  {
   "cell_type": "code",
   "execution_count": 11,
   "id": "f39c10cb",
   "metadata": {},
   "outputs": [
    {
     "name": "stdout",
     "output_type": "stream",
     "text": [
      "Epoch 1/100\n",
      "WARNING:tensorflow:Callbacks method `on_train_batch_end` is slow compared to the batch time (batch time: 0.0000s vs `on_train_batch_end` time: 0.0081s). Check your callbacks.\n",
      "36/36 - 0s - loss: 0.6223 - accuracy: 0.6329 - val_loss: 0.5613 - val_accuracy: 0.6801\n",
      "Epoch 2/100\n",
      "36/36 - 0s - loss: 0.5030 - accuracy: 0.7348 - val_loss: 0.4718 - val_accuracy: 0.7293\n",
      "Epoch 3/100\n",
      "36/36 - 0s - loss: 0.4332 - accuracy: 0.7628 - val_loss: 0.4300 - val_accuracy: 0.7539\n",
      "Epoch 4/100\n",
      "36/36 - 0s - loss: 0.3963 - accuracy: 0.7924 - val_loss: 0.4098 - val_accuracy: 0.7517\n",
      "Epoch 5/100\n",
      "36/36 - 0s - loss: 0.3740 - accuracy: 0.7994 - val_loss: 0.3989 - val_accuracy: 0.7696\n",
      "Epoch 6/100\n",
      "36/36 - 0s - loss: 0.3605 - accuracy: 0.8013 - val_loss: 0.4116 - val_accuracy: 0.7539\n",
      "Epoch 7/100\n",
      "36/36 - 0s - loss: 0.3488 - accuracy: 0.8145 - val_loss: 0.3767 - val_accuracy: 0.7897\n",
      "Epoch 8/100\n",
      "36/36 - 0s - loss: 0.3423 - accuracy: 0.8170 - val_loss: 0.3733 - val_accuracy: 0.7830\n",
      "Epoch 9/100\n",
      "36/36 - 0s - loss: 0.3401 - accuracy: 0.8156 - val_loss: 0.3882 - val_accuracy: 0.7718\n",
      "Epoch 10/100\n",
      "36/36 - 0s - loss: 0.3325 - accuracy: 0.8212 - val_loss: 0.4105 - val_accuracy: 0.7808\n"
     ]
    },
    {
     "data": {
      "text/plain": [
       "<tensorflow.python.keras.callbacks.History at 0x16689baa9d0>"
      ]
     },
     "execution_count": 11,
     "metadata": {},
     "output_type": "execute_result"
    }
   ],
   "source": [
    "# 入力の数と出力の数を定義します\n",
    "input_size = 10\n",
    "output_size = 2\n",
    "# 隠れ層のユニットの数を定義します\n",
    "hidden_layer_size = 30\n",
    "    \n",
    "# モデルを作成していきます\n",
    "model = tf.keras.Sequential([\n",
    "    tf.keras.layers.Dense(hidden_layer_size, activation='relu'), # 1番目の隠れ層\n",
    "    tf.keras.layers.Dense(hidden_layer_size, activation='relu'), # 2番目の隠れ層\n",
    "    tf.keras.layers.Dense(hidden_layer_size, activation='relu'), # 3番目の隠れ層\n",
    "     tf.keras.layers.Dense(hidden_layer_size, activation='relu'), # 4番目の隠れ層\n",
    "   \n",
    "    tf.keras.layers.Dense(output_size, activation='softmax') # 出力層\n",
    "])\n",
    "\n",
    "\n",
    "# 損失関数と最適化アルゴリズムを定義していきます\n",
    "model.compile(optimizer='adam', loss='sparse_categorical_crossentropy', metrics=['accuracy'])\n",
    "\n",
    "### 訓練\n",
    "\n",
    "# バッチサイズの設定\n",
    "batch_size = 100\n",
    "\n",
    "# 繰り返し回数の設定\n",
    "max_epochs = 100\n",
    "\n",
    "early_stopping = tf.keras.callbacks.EarlyStopping(patience=2)\n",
    "# モデルにデータを入れていきます\n",
    "model.fit(train_inputs, # 訓練データの入力\n",
    "          train_targets, # 訓練データのターゲット\n",
    "          batch_size=batch_size, # バッチサイズ\n",
    "          epochs=max_epochs, # 繰り返し回数\n",
    "            callbacks=[early_stopping], # アーリーストッピング\n",
    "          validation_data=(validation_inputs, validation_targets), # 検証データの指定\n",
    "          verbose = 2 # 結果の見た目を変更\n",
    "          )  "
   ]
  },
  {
   "cell_type": "code",
   "execution_count": 12,
   "id": "e7886e84",
   "metadata": {},
   "outputs": [
    {
     "name": "stdout",
     "output_type": "stream",
     "text": [
      "14/14 [==============================] - 0s 2ms/step - loss: 0.3653 - accuracy: 0.7946\n"
     ]
    }
   ],
   "source": [
    "test_loss,test_accuracy=model.evaluate(test_inputs,test_targets)"
   ]
  },
  {
   "cell_type": "code",
   "execution_count": 13,
   "id": "8fcf16dd",
   "metadata": {},
   "outputs": [
    {
     "name": "stdout",
     "output_type": "stream",
     "text": [
      "\n",
      "Test loss: 0.37. Test accuracy: 79.46%\n"
     ]
    }
   ],
   "source": [
    "print('\\nTest loss: {0:.2f}. Test accuracy: {1:.2f}%'.format(test_loss, test_accuracy*100.))"
   ]
  },
  {
   "cell_type": "code",
   "execution_count": null,
   "id": "d4cc862f",
   "metadata": {},
   "outputs": [],
   "source": []
  }
 ],
 "metadata": {
  "kernelspec": {
   "display_name": "Python 3 (ipykernel)",
   "language": "python",
   "name": "python3"
  },
  "language_info": {
   "codemirror_mode": {
    "name": "ipython",
    "version": 3
   },
   "file_extension": ".py",
   "mimetype": "text/x-python",
   "name": "python",
   "nbconvert_exporter": "python",
   "pygments_lexer": "ipython3",
   "version": "3.8.12"
  }
 },
 "nbformat": 4,
 "nbformat_minor": 5
}
